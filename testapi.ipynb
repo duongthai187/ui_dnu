{
 "cells": [
  {
   "cell_type": "code",
   "execution_count": 19,
   "id": "aea5be96",
   "metadata": {},
   "outputs": [
    {
     "name": "stdout",
     "output_type": "stream",
     "text": [
      "Dựa vào yêu cầu của bạn về tức toán 9, lý 9 và hóa 9, mình muốn giới thiệu với bạn các ngành học liên quan đến Khoa học Tự nhiên tại Trường Đại học Đại Nam. Dưới đây là một số ngành có thể bạn quan tâm:\n",
      "\n",
      "1. **Công nghệ thông tin (7480201)**\n",
      "   - Tổ hợp xét tuyển: A00 - A01 - C01 - D01 - D07 - X06 – X26\n",
      "   - Thời gian đào tạo: 3,5 năm (11 kỳ)\n",
      "   - Chỉ tiêu: 700 sinh viên\n",
      "   - Học phí: 11,9 triệu đồng/kỳ\n",
      "\n",
      "2. **Khoa học máy tính (7480101)**\n",
      "   - Tổ hợp xét tuyển: A00 - A01 - C01 - D01 - D07 – X06 – X26\n",
      "   - Thời gian đào tạo: 4 năm (12 kỳ)\n",
      "   - Chỉ tiêu: 50 sinh viên\n",
      "   - Học phí: 11 triệu đồng/kỳ\n",
      "\n",
      "3. **Hệ thống thông tin (7480104)**\n",
      "   - Tổ hợp xét tuyển: A00 - A01 - C01 - D01 - D07 - X06 – X26\n",
      "   - Thời gian đào tạo: 3,5 năm (11 kỳ)\n",
      "   - Chỉ tiêu: 50 sinh viên\n",
      "   - Học phí: 11 triệu đồng/kỳ\n",
      "\n",
      "Đây là một số ngành học phổ biến trong lĩnh vực Khoa học Tự nhiên mà bạn có thể quan tâm. Nếu cần thêm thông tin hoặc muốn tìm hiểu về các ngành khác, bạn có thể yêu cầu mình giúp đỡ. Chúc bạn chọn được ngành học phù hợp! 🎓✨\n"
     ]
    }
   ],
   "source": [
    "import requests\n",
    "import json\n",
    "\n",
    "# Cấu hình chung\n",
    "api_key = \"app-rSiI7D6vYvNEEu4orBcMdYts\"  # Thay bằng API key thực của bạn\n",
    "base_url = \"https://heyai.life/v1\"\n",
    "\n",
    "headers = {\n",
    "    \"Authorization\": f\"Bearer {api_key}\",\n",
    "    \"Content-Type\": \"application/json\"\n",
    "}\n",
    "\n",
    "# Cấu hình request data\n",
    "data = {\n",
    "    'conversation_id': 'b0200dea-0b5a-4b7f-9bc7-8f25f7ff17c7',\n",
    "    \"query\": \"Tức toán 9, lý 9 và hóa 9\",  # Nội dung câu hỏi của người dùng\n",
    "    \"inputs\": {\n",
    "        \"user_name\": \"Dương Công Thái\"\n",
    "    },  # Các biến cần truyền (nếu có)\n",
    "    \"response_mode\": \"blocking\",  # Chế độ trả kết quả (blocking hoặc streaming)\n",
    "    \"conversation_id\": \"\",  # \"\" để tạo hội thoại mới hoặc truyền giá trị conversation_id để tiếp tục\n",
    "    \"user\": \"abc-123\"  # Định danh người dùng\n",
    "    # Nếu cần dùng file: hãy thêm key \"files\": [ ... ]\n",
    "}\n",
    "\n",
    "# Gửi request POST /chat-messages\n",
    "response = requests.post(f\"{base_url}/chat-messages\", headers=headers, data=json.dumps(data))\n",
    "\n",
    "print(response.json()[\"answer\"])  # In kết quả trả về\n"
   ]
  },
  {
   "cell_type": "code",
   "execution_count": null,
   "id": "ff476d9f",
   "metadata": {},
   "outputs": [
    {
     "name": "stdout",
     "output_type": "stream",
     "text": [
      "💬 Chatbot trả lời:\n",
      "\n",
      "Xin chào Thái! Chào mừng bạn đến với Trợ lý AI của Trường Đại học Đại Nam. Tôi có thể giúp gì cho bạn hôm nay? 🌟\n",
      "✅ Kết thúc.\n"
     ]
    }
   ],
   "source": [
    "import requests\n",
    "import sseclient\n",
    "import json\n",
    "\n",
    "# Cấu hình\n",
    "api_key = \"app-rSiI7D6vYvNEEu4orBcMdYts\"\n",
    "url = \"https://heyai.life/v1/chat-messages\"\n",
    "\n",
    "headers = {\n",
    "    \"Authorization\": f\"Bearer {api_key}\",\n",
    "    \"Content-Type\": \"application/json\"\n",
    "}\n",
    "\n",
    "payload = {\n",
    "    \"query\": \"Ành ơi, giúp em làm bài tập về nhà với ạ\",  # Nội dung câu hỏi của người dùng\n",
    "    \"inputs\": {\n",
    "        \"user_name\": \"Dương Công Thái\"  # Biến cần truyền\n",
    "    },\n",
    "    \"response_mode\": \"streaming\",\n",
    "    \"conversation_id\": \"\",\n",
    "    \"user\": \"abc-123\"\n",
    "}\n",
    "\n",
    "# ⚠️ Phải có stream=True\n",
    "response = requests.post(url, headers=headers, json=payload, stream=True)\n",
    "\n",
    "# ✅ Không truyền response.text → lỗi!\n",
    "client = sseclient.SSEClient(response)\n",
    "\n",
    "# In từng chunk trả về\n",
    "full_answer = \"\"\n",
    "\n",
    "for event in client.events():\n",
    "    if not event.data.strip():\n",
    "        continue\n",
    "\n",
    "    try:\n",
    "        data = json.loads(event.data)\n",
    "    except json.JSONDecodeError:\n",
    "        continue\n",
    "\n",
    "    if data.get(\"event\") == \"message\":\n",
    "        chunk = data.get(\"answer\", \"\")\n",
    "        print(chunk, end=\"\", flush=True)\n",
    "        full_answer += chunk\n",
    "\n",
    "    elif data.get(\"event\") == \"message_end\":\n",
    "        break\n"
   ]
  },
  {
   "cell_type": "code",
   "execution_count": 5,
   "id": "219423c2",
   "metadata": {},
   "outputs": [
    {
     "data": {
      "text/plain": [
       "''"
      ]
     },
     "execution_count": 5,
     "metadata": {},
     "output_type": "execute_result"
    }
   ],
   "source": [
    "response.text"
   ]
  },
  {
   "cell_type": "code",
   "execution_count": 7,
   "id": "424f0071",
   "metadata": {},
   "outputs": [
    {
     "name": "stdout",
     "output_type": "stream",
     "text": [
      "Status Code: 200\n",
      "Messages History: {'limit': 20, 'has_more': False, 'data': [{'id': '246b184f-c9c1-4235-afcd-a3f0a6e65973', 'conversation_id': 'b0200dea-0b5a-4b7f-9bc7-8f25f7ff17c7', 'parent_message_id': '00000000-0000-0000-0000-000000000000', 'inputs': {'user_name': 'Dương Công Thái'}, 'query': 'Bạn là ai ? Tôi là ai ? Bạn ở đây để làm gì ? Tôi ở đây để làm gì ?', 'answer': 'Xin chào Dương Công Thái, tôi là Trợ lý AI của Trường Đại học Đại Nam. Với vai trò là trợ lý tuyển sinh chính thức của trường, nhiệm vụ của tôi là cung cấp thông tin về trường, chương trình học, tư vấn ngành học, hướng dẫn thủ tục nhập học và giải đáp mọi thắc mắc liên quan đến quá trình tuyển sinh. Bạn có thể yên tâm đặt câu hỏi hoặc yêu cầu giúp đỡ từ tôi. Mình sẽ cố gắng hỗ trợ bạn một cách tốt nhất có thể.', 'message_files': [], 'feedback': None, 'retriever_resources': [{'position': 1, 'dataset_id': '070201c3-2a67-4e1d-ab1e-42abcedd810e', 'dataset_name': 'FTA Admission Criteria', 'document_id': 'f5790cf3-988d-4ddc-a79c-4ae632211c61', 'document_name': 'Nguyễn Xuân Tiệp.docx', 'data_source_type': 'upload_file', 'segment_id': '621cc312-34cd-42b6-9f32-0b081d12b4a6', 'retriever_from': 'workflow', 'score': 0.20504308999999998, 'hit_count': 33, 'word_count': 959, 'segment_position': 1, 'index_node_hash': '7903abc2c641fbfcd9988492d9e5fa09552c7b8944238c1d9a7cbc78aeb3a6c8', 'content': 'Thầy Nguyễn Xuân Tiệp\\nChức vụ: Chuyên viên đào tạo/ giảng viên\\nHọc hàm học vị: Thạc sĩ\\nBằng cấp: Thạc sĩ ngành Tài chính - Ngân hàng\\nGiới thiệu về Giảng viên:\\nKinh nghiệm: Hơn 15 năm làm trong lĩnh vực Tài chính - Ngân hàng, trong đó có hơn 10 năm làm việc tại các ngân hàng, công ty tài chính, công ty bảo hiểm lớn như Ngân hàng Xăng dầu, ngân hàng Việt Nam Thịnh Vượng, Công ty Lotte Finance, Công ty bảo hiểm Gennerali và 5 năm làm trong lĩnh vực giáo dục và đào tạo.\\nThành tựu:\\nChuyên gia phê duyệt trẻ nhất Trung tâm Thẩm định và phê duyệt tín dụng ngân hàng VPBank, chuyên gia đào tạo xuất sắc và giải cây bút vàng của VPBank năm 2017.\\nTham gia nhiều dự án lớn như dự án LOS của VPBank, Dự án tăng cường năng lực cạnh tranh khu vực tư nhân của Việt Nam (USAID IPSC)\\nDiễn giả khách mời chia sẻ trong các chương trình hướng nghiệp, quản lý tài chính cá nhân của các trường Trung học phổ thông\\nPhong cách giảng dạy: Vui vẻ, dễ hiểu, chú trọng vào thực hành', 'page': None, 'doc_metadata': None}, {'position': 2, 'dataset_id': '070201c3-2a67-4e1d-ab1e-42abcedd810e', 'dataset_name': 'FTA Admission Criteria', 'document_id': '53acb360-19b0-431f-b8b4-1bfa82dfa8e3', 'document_name': 'Cô Vũ Minh Ngọc.docx', 'data_source_type': 'upload_file', 'segment_id': '5fb3dfbf-2548-4381-b54c-abd46041a056', 'retriever_from': 'workflow', 'score': 0.19608451100000002, 'hit_count': 33, 'word_count': 708, 'segment_position': 1, 'index_node_hash': '044146aad0782a22a6cabda04d44ef1266bb19f14c4ed4c6a74aaa6bc7196ee7', 'content': 'CôVũ Minh NgọclàGiảng viên thực hànhcủaViện Công nghệ Tài chính (Fintech Academy), Trường Đại học Đại Nam\\nHọc vị: Cử nhân\\nBằng cấp: Cử nhân chuyên ngành Tài chính quốc tế, Đại học Ngoại thương\\nTốt nghiệp Cử nhân chuyên ngành Tài chính quốc tế tại Trường Đại học Ngoại thương, cô được trang bị nền tảng kiến thức chuyên sâu cùng tư duy phân tích và tiếp cận thực tiễn trong lĩnh vực tài chính.\\nVới phương pháp tiếp cận trong giảng dạy là chú trọng vào tính thực tiễn và khả năng ứng dụng, cô tập trung xây dựng các nội dung học tập gắn liền với thực tế ngành nghề, giúp sinh viên phát triển toàn diện về kiến thức và kỹ năng nghề nghiệp, tư duy phản biện và khả năng thích ứng với môi trường làm việc hiện đại', 'page': None, 'doc_metadata': None}, {'position': 3, 'dataset_id': '070201c3-2a67-4e1d-ab1e-42abcedd810e', 'dataset_name': 'FTA Admission Criteria', 'document_id': '5610ccc1-5811-40dd-927e-54561e841d8f', 'document_name': 'giới thiệu Viện Công nghệ tài chính.docx', 'data_source_type': 'upload_file', 'segment_id': '34a21601-a0b0-4bd0-9199-2773f099e5df', 'retriever_from': 'workflow', 'score': 0.174777969308243, 'hit_count': 19, 'word_count': 1020, 'segment_position': 1, 'index_node_hash': '148c44f92e4f0f8778ff908e78a1d92146f24725d7a536f8ca1a93b17441e83e', 'content': 'Viện Công nghệ tài chính (Fintech Academy)\\nGiới thiệu:Viện Công nghệ Tài chính (Fintech Academy) có chức năng đào tạo và nghiên cứu chuyên sâu về công nghệ tài chínhChương trình đào tạo của Viện tập trung vào sự phát triển và ứng dụng công nghệ hiện đại, như: công nghệ chuỗi khối (Blockchain), trí tuệ nhân tạo (AI), phân tích dữ liệu lớn (Big Data Analytics), v.v..để phát triển các giải pháp tài chính đổi mới sáng tạo, nâng cao hiệu quả hoạt động, tăng cường trải nghiệm của khách hàng của các ngân hàng thương mại và các định chế tài chính trung gian khácSinh viên học và cao học viên ngành công nghệ tài chính tại Trường Đại học Đại Nam được trang bị kiến thức và kỹ năng cần thiết về Tài chính - Ngân hàng - Fintech để có thể đảm nhiệm tốt công việc trong điều kiện chuyển đổi số của hệ thống tài chính và nền kinh tế đang được thúc đẩy mạnh mẽ.\"Viện Công nghệ Tài chính cam kết xây dựng môi trường đào tạo chất lượng cao, gắn với thực tiễn, đáp ứng nhu cầu nhân lực trong lĩnh vực Tài chính - Ngân hàng - Fintech', 'page': None, 'doc_metadata': None}, {'position': 4, 'dataset_id': '070201c3-2a67-4e1d-ab1e-42abcedd810e', 'dataset_name': 'FTA Admission Criteria', 'document_id': '9bbfa1ae-3ca0-4c13-a9cd-bf5a1b0c349a', 'document_name': 'FTA Admission Deadline.docx', 'data_source_type': 'upload_file', 'segment_id': 'e6e1a665-2186-4e9c-a171-dac5e41f23b7', 'retriever_from': 'workflow', 'score': 0.16458085, 'hit_count': 21, 'word_count': 2042, 'segment_position': 10, 'index_node_hash': '3000097760de2bdcbeb418e419d31f9596994cf69a6e75126b083876fc3420c8', 'content': 'Bên cạnhđó,cácchương trình liên kếtdoanhnghiệpnhằmtăng trải nghiệm thựctếchosinh viên vàcơhộiviệclàmsautốt nghiệp.\\nPhát triển năng lực\\nLấy người học làm trung tâm, kết hợp nhiều phương phápgiảngdạyhọc tập, thực hành tại Fintech Lab, làm dự án tốt nghiệp.\\n--------------------------------------------------\\nNĂNG LỰC ĐẦU RA\\nTăngcườngtính ứng dụng để sinh viêncócơhộiđượchọc songsonglý thuyết và thực hành.\\nÁp dụng kiến thức\\nGiảiquyết vấn đề, nghiên cứu và phát triểncácsản phẩm mới,hiệnđạihóa ngànhtàichính thông quaviệcáp dụng kiến thức về ngành.\\nNhạybénsự thay đổi\\nĐánh giá sự thay đổi và phát triểncủalĩnh vựctàichính thông quacáckiến thức đã học.\\nMang lại giá trị\\nÁp dụng nguyên lýcủangànhnhằmnângcaohiệu quảhoạtđộngcủatổ chức\\nTính chuyênmôncao\\nVậndụng kiến thức chuyên ngành vào quá trìnhvậnhànhcáccôngviệcchuyênmôntrong tổ chức\\nHoàn thiện kỹ năngmềm\\nThànhthạokỹ năngsửdụng tin học văn phòng vàanhvăn giaotiếp\\nKhẳng định bản thân\\nChứngtỏkhả năng bản thân và chia sẻ những hiểu biết cánhânvàohoạtđộngcủađộinhóm, tổ chức\\nGiảiquyết vấn đề\\nVậndụngcáckỹ năng phân tích, tổng hợp và tư duy phản biện đểgiảiquyết vấn đề trongcôngviệc.\\nTác phong chuyên nghiệp\\nNghiêmtúc,cóý thức kỷ luậtcao, luôn cầutiếntrongcôngviệcvànêucaotinh thần học tập suốt đời.\\n--------------------------------------------\\nCẤU TRÚC CHƯƠNG TRÌNH HỌC (Dự kiến)\\nNăm 1:\\nTin học ứng dụng\\nKinhtếvi mô\\nMarketing căn bản\\nKỹ năngmềmcơbản\\nTiếngAnh 1\\nTiếngAnh 2\\nNguyên lý kế toán\\nQuản trị học\\nKinhtếVĩ mô\\nKhởi nghiệp và đổi mới sángtạo\\nĐạođứckinhdoanhvà văn hóadoanhnghiệp\\nLý thuyếttàichínhtiềntệ\\nPháp luậtđạicương\\nXácsuấtthống kê và phân tích dữ liệu\\nNăm 2:\\nKỹ năngmềmnângcao\\nTiếngAnh 3\\nTiếngAnh 4\\nTàichínhdoanhnghiệp 1\\nKế toántàichính\\nNghiệpvụngânhàngthương mại\\nCơ sở dữ liệu\\nNgônngữlậptrình Python\\nTrựcquanvà phân tích dữ liệu\\nHệ thống thông tin quản lý và hỗ trợraquyết định\\nTàichínhdoanhnghiệp 2\\nĐầu tưtàichính\\nQuản trị ngânhàngthương mại\\nQuản trị rủirotàichính\\nCông nghệtàichính\\nCông nghệ Blockchain và ứng dụng\\nNăm 3:\\nThương mại điệntửvà marketingtàichính\\nPhân tích dữ liệu lớn', 'page': None, 'doc_metadata': None}], 'created_at': 1749908484, 'agent_thoughts': [], 'status': 'normal', 'error': None}]}\n"
     ]
    }
   ],
   "source": [
    "\n",
    "headers = {\n",
    "    \"Authorization\": f\"Bearer {api_key}\",\n",
    "    \"Content-Type\": \"application/json\"\n",
    "}\n",
    "\n",
    "# Các tham số query\n",
    "params = {\n",
    "    \"conversation_id\": \"b0200dea-0b5a-4b7f-9bc7-8f25f7ff17c7\",  # Thay bằng ID hội thoại cụ thể\n",
    "    \"user\": \"abc-123\",  # Định danh người dùng\n",
    "    \"limit\": 20      # Số tin nhắn muốn lấy (mặc định là 20)\n",
    "    # \"first_id\": \"\"  # Nếu cần phân trang, truyền ID của tin nhắn đầu trang hiện tại\n",
    "}\n",
    "\n",
    "response = requests.get(f\"{base_url}/messages\", headers=headers, params=params)\n",
    "\n",
    "print(\"Status Code:\", response.status_code)\n",
    "print(\"Messages History:\", response.json())\n"
   ]
  },
  {
   "cell_type": "code",
   "execution_count": 8,
   "id": "3b8d8020",
   "metadata": {},
   "outputs": [
    {
     "data": {
      "text/plain": [
       "{'limit': 20,\n",
       " 'has_more': False,\n",
       " 'data': [{'id': '246b184f-c9c1-4235-afcd-a3f0a6e65973',\n",
       "   'conversation_id': 'b0200dea-0b5a-4b7f-9bc7-8f25f7ff17c7',\n",
       "   'parent_message_id': '00000000-0000-0000-0000-000000000000',\n",
       "   'inputs': {'user_name': 'Dương Công Thái'},\n",
       "   'query': 'Bạn là ai ? Tôi là ai ? Bạn ở đây để làm gì ? Tôi ở đây để làm gì ?',\n",
       "   'answer': 'Xin chào Dương Công Thái, tôi là Trợ lý AI của Trường Đại học Đại Nam. Với vai trò là trợ lý tuyển sinh chính thức của trường, nhiệm vụ của tôi là cung cấp thông tin về trường, chương trình học, tư vấn ngành học, hướng dẫn thủ tục nhập học và giải đáp mọi thắc mắc liên quan đến quá trình tuyển sinh. Bạn có thể yên tâm đặt câu hỏi hoặc yêu cầu giúp đỡ từ tôi. Mình sẽ cố gắng hỗ trợ bạn một cách tốt nhất có thể.',\n",
       "   'message_files': [],\n",
       "   'feedback': None,\n",
       "   'retriever_resources': [{'position': 1,\n",
       "     'dataset_id': '070201c3-2a67-4e1d-ab1e-42abcedd810e',\n",
       "     'dataset_name': 'FTA Admission Criteria',\n",
       "     'document_id': 'f5790cf3-988d-4ddc-a79c-4ae632211c61',\n",
       "     'document_name': 'Nguyễn Xuân Tiệp.docx',\n",
       "     'data_source_type': 'upload_file',\n",
       "     'segment_id': '621cc312-34cd-42b6-9f32-0b081d12b4a6',\n",
       "     'retriever_from': 'workflow',\n",
       "     'score': 0.20504308999999998,\n",
       "     'hit_count': 33,\n",
       "     'word_count': 959,\n",
       "     'segment_position': 1,\n",
       "     'index_node_hash': '7903abc2c641fbfcd9988492d9e5fa09552c7b8944238c1d9a7cbc78aeb3a6c8',\n",
       "     'content': 'Thầy Nguyễn Xuân Tiệp\\nChức vụ: Chuyên viên đào tạo/ giảng viên\\nHọc hàm học vị: Thạc sĩ\\nBằng cấp: Thạc sĩ ngành Tài chính - Ngân hàng\\nGiới thiệu về Giảng viên:\\nKinh nghiệm: Hơn 15 năm làm trong lĩnh vực Tài chính - Ngân hàng, trong đó có hơn 10 năm làm việc tại các ngân hàng, công ty tài chính, công ty bảo hiểm lớn như Ngân hàng Xăng dầu, ngân hàng Việt Nam Thịnh Vượng, Công ty Lotte Finance, Công ty bảo hiểm Gennerali và 5 năm làm trong lĩnh vực giáo dục và đào tạo.\\nThành tựu:\\nChuyên gia phê duyệt trẻ nhất Trung tâm Thẩm định và phê duyệt tín dụng ngân hàng VPBank, chuyên gia đào tạo xuất sắc và giải cây bút vàng của VPBank năm 2017.\\nTham gia nhiều dự án lớn như dự án LOS của VPBank, Dự án tăng cường năng lực cạnh tranh khu vực tư nhân của Việt Nam (USAID IPSC)\\nDiễn giả khách mời chia sẻ trong các chương trình hướng nghiệp, quản lý tài chính cá nhân của các trường Trung học phổ thông\\nPhong cách giảng dạy: Vui vẻ, dễ hiểu, chú trọng vào thực hành',\n",
       "     'page': None,\n",
       "     'doc_metadata': None},\n",
       "    {'position': 2,\n",
       "     'dataset_id': '070201c3-2a67-4e1d-ab1e-42abcedd810e',\n",
       "     'dataset_name': 'FTA Admission Criteria',\n",
       "     'document_id': '53acb360-19b0-431f-b8b4-1bfa82dfa8e3',\n",
       "     'document_name': 'Cô Vũ Minh Ngọc.docx',\n",
       "     'data_source_type': 'upload_file',\n",
       "     'segment_id': '5fb3dfbf-2548-4381-b54c-abd46041a056',\n",
       "     'retriever_from': 'workflow',\n",
       "     'score': 0.19608451100000002,\n",
       "     'hit_count': 33,\n",
       "     'word_count': 708,\n",
       "     'segment_position': 1,\n",
       "     'index_node_hash': '044146aad0782a22a6cabda04d44ef1266bb19f14c4ed4c6a74aaa6bc7196ee7',\n",
       "     'content': 'CôVũ Minh NgọclàGiảng viên thực hànhcủaViện Công nghệ Tài chính (Fintech Academy), Trường Đại học Đại Nam\\nHọc vị: Cử nhân\\nBằng cấp: Cử nhân chuyên ngành Tài chính quốc tế, Đại học Ngoại thương\\nTốt nghiệp Cử nhân chuyên ngành Tài chính quốc tế tại Trường Đại học Ngoại thương, cô được trang bị nền tảng kiến thức chuyên sâu cùng tư duy phân tích và tiếp cận thực tiễn trong lĩnh vực tài chính.\\nVới phương pháp tiếp cận trong giảng dạy là chú trọng vào tính thực tiễn và khả năng ứng dụng, cô tập trung xây dựng các nội dung học tập gắn liền với thực tế ngành nghề, giúp sinh viên phát triển toàn diện về kiến thức và kỹ năng nghề nghiệp, tư duy phản biện và khả năng thích ứng với môi trường làm việc hiện đại',\n",
       "     'page': None,\n",
       "     'doc_metadata': None},\n",
       "    {'position': 3,\n",
       "     'dataset_id': '070201c3-2a67-4e1d-ab1e-42abcedd810e',\n",
       "     'dataset_name': 'FTA Admission Criteria',\n",
       "     'document_id': '5610ccc1-5811-40dd-927e-54561e841d8f',\n",
       "     'document_name': 'giới thiệu Viện Công nghệ tài chính.docx',\n",
       "     'data_source_type': 'upload_file',\n",
       "     'segment_id': '34a21601-a0b0-4bd0-9199-2773f099e5df',\n",
       "     'retriever_from': 'workflow',\n",
       "     'score': 0.174777969308243,\n",
       "     'hit_count': 19,\n",
       "     'word_count': 1020,\n",
       "     'segment_position': 1,\n",
       "     'index_node_hash': '148c44f92e4f0f8778ff908e78a1d92146f24725d7a536f8ca1a93b17441e83e',\n",
       "     'content': 'Viện Công nghệ tài chính (Fintech Academy)\\nGiới thiệu:Viện Công nghệ Tài chính (Fintech Academy) có chức năng đào tạo và nghiên cứu chuyên sâu về công nghệ tài chínhChương trình đào tạo của Viện tập trung vào sự phát triển và ứng dụng công nghệ hiện đại, như: công nghệ chuỗi khối (Blockchain), trí tuệ nhân tạo (AI), phân tích dữ liệu lớn (Big Data Analytics), v.v..để phát triển các giải pháp tài chính đổi mới sáng tạo, nâng cao hiệu quả hoạt động, tăng cường trải nghiệm của khách hàng của các ngân hàng thương mại và các định chế tài chính trung gian khácSinh viên học và cao học viên ngành công nghệ tài chính tại Trường Đại học Đại Nam được trang bị kiến thức và kỹ năng cần thiết về Tài chính - Ngân hàng - Fintech để có thể đảm nhiệm tốt công việc trong điều kiện chuyển đổi số của hệ thống tài chính và nền kinh tế đang được thúc đẩy mạnh mẽ.\"Viện Công nghệ Tài chính cam kết xây dựng môi trường đào tạo chất lượng cao, gắn với thực tiễn, đáp ứng nhu cầu nhân lực trong lĩnh vực Tài chính - Ngân hàng - Fintech',\n",
       "     'page': None,\n",
       "     'doc_metadata': None},\n",
       "    {'position': 4,\n",
       "     'dataset_id': '070201c3-2a67-4e1d-ab1e-42abcedd810e',\n",
       "     'dataset_name': 'FTA Admission Criteria',\n",
       "     'document_id': '9bbfa1ae-3ca0-4c13-a9cd-bf5a1b0c349a',\n",
       "     'document_name': 'FTA Admission Deadline.docx',\n",
       "     'data_source_type': 'upload_file',\n",
       "     'segment_id': 'e6e1a665-2186-4e9c-a171-dac5e41f23b7',\n",
       "     'retriever_from': 'workflow',\n",
       "     'score': 0.16458085,\n",
       "     'hit_count': 21,\n",
       "     'word_count': 2042,\n",
       "     'segment_position': 10,\n",
       "     'index_node_hash': '3000097760de2bdcbeb418e419d31f9596994cf69a6e75126b083876fc3420c8',\n",
       "     'content': 'Bên cạnhđó,cácchương trình liên kếtdoanhnghiệpnhằmtăng trải nghiệm thựctếchosinh viên vàcơhộiviệclàmsautốt nghiệp.\\nPhát triển năng lực\\nLấy người học làm trung tâm, kết hợp nhiều phương phápgiảngdạyhọc tập, thực hành tại Fintech Lab, làm dự án tốt nghiệp.\\n--------------------------------------------------\\nNĂNG LỰC ĐẦU RA\\nTăngcườngtính ứng dụng để sinh viêncócơhộiđượchọc songsonglý thuyết và thực hành.\\nÁp dụng kiến thức\\nGiảiquyết vấn đề, nghiên cứu và phát triểncácsản phẩm mới,hiệnđạihóa ngànhtàichính thông quaviệcáp dụng kiến thức về ngành.\\nNhạybénsự thay đổi\\nĐánh giá sự thay đổi và phát triểncủalĩnh vựctàichính thông quacáckiến thức đã học.\\nMang lại giá trị\\nÁp dụng nguyên lýcủangànhnhằmnângcaohiệu quảhoạtđộngcủatổ chức\\nTính chuyênmôncao\\nVậndụng kiến thức chuyên ngành vào quá trìnhvậnhànhcáccôngviệcchuyênmôntrong tổ chức\\nHoàn thiện kỹ năngmềm\\nThànhthạokỹ năngsửdụng tin học văn phòng vàanhvăn giaotiếp\\nKhẳng định bản thân\\nChứngtỏkhả năng bản thân và chia sẻ những hiểu biết cánhânvàohoạtđộngcủađộinhóm, tổ chức\\nGiảiquyết vấn đề\\nVậndụngcáckỹ năng phân tích, tổng hợp và tư duy phản biện đểgiảiquyết vấn đề trongcôngviệc.\\nTác phong chuyên nghiệp\\nNghiêmtúc,cóý thức kỷ luậtcao, luôn cầutiếntrongcôngviệcvànêucaotinh thần học tập suốt đời.\\n--------------------------------------------\\nCẤU TRÚC CHƯƠNG TRÌNH HỌC (Dự kiến)\\nNăm 1:\\nTin học ứng dụng\\nKinhtếvi mô\\nMarketing căn bản\\nKỹ năngmềmcơbản\\nTiếngAnh 1\\nTiếngAnh 2\\nNguyên lý kế toán\\nQuản trị học\\nKinhtếVĩ mô\\nKhởi nghiệp và đổi mới sángtạo\\nĐạođứckinhdoanhvà văn hóadoanhnghiệp\\nLý thuyếttàichínhtiềntệ\\nPháp luậtđạicương\\nXácsuấtthống kê và phân tích dữ liệu\\nNăm 2:\\nKỹ năngmềmnângcao\\nTiếngAnh 3\\nTiếngAnh 4\\nTàichínhdoanhnghiệp 1\\nKế toántàichính\\nNghiệpvụngânhàngthương mại\\nCơ sở dữ liệu\\nNgônngữlậptrình Python\\nTrựcquanvà phân tích dữ liệu\\nHệ thống thông tin quản lý và hỗ trợraquyết định\\nTàichínhdoanhnghiệp 2\\nĐầu tưtàichính\\nQuản trị ngânhàngthương mại\\nQuản trị rủirotàichính\\nCông nghệtàichính\\nCông nghệ Blockchain và ứng dụng\\nNăm 3:\\nThương mại điệntửvà marketingtàichính\\nPhân tích dữ liệu lớn',\n",
       "     'page': None,\n",
       "     'doc_metadata': None}],\n",
       "   'created_at': 1749908484,\n",
       "   'agent_thoughts': [],\n",
       "   'status': 'normal',\n",
       "   'error': None}]}"
      ]
     },
     "execution_count": 8,
     "metadata": {},
     "output_type": "execute_result"
    }
   ],
   "source": [
    "response.json()"
   ]
  },
  {
   "cell_type": "code",
   "execution_count": null,
   "id": "3fe6045e",
   "metadata": {},
   "outputs": [],
   "source": [
    "\n",
    "headers = {\n",
    "    \"Authorization\": f\"Bearer {api_key}\"\n",
    "}\n",
    "\n",
    "# Các tham số query\n",
    "params = {\n",
    "    \"user\": \"abc-123\",     # Định danh người dùng\n",
    "    \"limit\": 20,           # Số hội thoại muốn lấy\n",
    "    \"last_id\": \"\"          # Dùng cho phân trang, rỗng khi lấy trang đầu tiên\n",
    "}\n",
    "\n",
    "response = requests.get(f\"{base_url}/conversations\", headers=headers, params=params)\n",
    "\n",
    "print(\"Status Code:\", response.status_code)\n",
    "print(\"Conversations List:\", response.json())\n"
   ]
  }
 ],
 "metadata": {
  "kernelspec": {
   "display_name": "Python 3",
   "language": "python",
   "name": "python3"
  },
  "language_info": {
   "codemirror_mode": {
    "name": "ipython",
    "version": 3
   },
   "file_extension": ".py",
   "mimetype": "text/x-python",
   "name": "python",
   "nbconvert_exporter": "python",
   "pygments_lexer": "ipython3",
   "version": "3.13.2"
  }
 },
 "nbformat": 4,
 "nbformat_minor": 5
}
